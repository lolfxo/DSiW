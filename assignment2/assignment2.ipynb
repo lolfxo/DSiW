{
 "cells": [
  {
   "cell_type": "code",
   "execution_count": 55,
   "metadata": {
    "collapsed": true
   },
   "outputs": [],
   "source": [
    "import numpy as np\n",
    "import pandas as pd\n",
    "\n",
    "all_train_data = pd.read_csv('train.txt', nrows = 2e6, sep='\\t', header=None)"
   ]
  },
  {
   "cell_type": "code",
   "execution_count": 58,
   "metadata": {},
   "outputs": [
    {
     "name": "stdout",
     "output_type": "stream",
     "text": [
      "(2000000, 40)\n"
     ]
    }
   ],
   "source": [
    "all_train_data.head(10)\n",
    "all_train_data.iloc[1:15,14:]\n",
    "print(all_train_data.shape)\n",
    "# first column is binary\n",
    "# columns 1 to 13 is integer\n",
    "# columns 14 to 39 is categorical"
   ]
  },
  {
   "cell_type": "markdown",
   "metadata": {},
   "source": [
    "# 2.1 PARTITIONING THE DATA"
   ]
  },
  {
   "cell_type": "code",
   "execution_count": 584,
   "metadata": {
    "collapsed": true
   },
   "outputs": [],
   "source": [
    "import random\n",
    "\n",
    "# Get Indexes:\n",
    "all_ind = random.sample(range(0,int(2e6)),int(2e6))\n",
    "len(all_ind)\n",
    "max(all_ind)\n",
    "min(all_ind)\n",
    "\n",
    "# Partition the Data\n",
    "# vector indexing INCLUDES the first number but DOES NOT INCLUDE the last number.\n",
    "# hence all_ind[0:4] will show the 0th, 1st, 2nd and 3rd rows but NOT the 4th.\n",
    "# train1M\n",
    "train_ind = all_ind[0:int(1e6)]\n",
    "train1M = all_train_data.iloc[train_ind,:]\n",
    "\n",
    "# validation250k\n",
    "valid_ind = all_ind[int(1e6):int(1e6+250e3)]\n",
    "validation250k = all_train_data.iloc[valid_ind,:]\n",
    "\n",
    "# test750k\n",
    "test_ind = all_ind[int(1e6+250e3):int(1e6+250e3+750e3)]\n",
    "test750k = all_train_data.iloc[test_ind,:]"
   ]
  },
  {
   "cell_type": "code",
   "execution_count": 585,
   "metadata": {},
   "outputs": [
    {
     "name": "stdout",
     "output_type": "stream",
     "text": [
      "[1250001 1250002 1250003 1250004 1250005 1250006 1250007 1250008 1250009\n",
      " 1250010 1250011 1250012 1250013 1250014]\n",
      "[1999997 1999998 1999999]\n"
     ]
    }
   ],
   "source": [
    "isit = np.arange(0,int(1e6))\n",
    "isit2 = np.arange(int(1e6+250e3),int(1e6+250e3+750e3))\n",
    "print(isit2[1:15])\n",
    "print(isit2[-3:])"
   ]
  },
  {
   "cell_type": "markdown",
   "metadata": {},
   "source": [
    "# 2.2 SUMMARY STATISTICS"
   ]
  },
  {
   "cell_type": "markdown",
   "metadata": {},
   "source": [
    "## Clean the Data"
   ]
  },
  {
   "cell_type": "code",
   "execution_count": 586,
   "metadata": {},
   "outputs": [
    {
     "data": {
      "text/plain": [
       "(1000000,)"
      ]
     },
     "execution_count": 586,
     "metadata": {},
     "output_type": "execute_result"
    }
   ],
   "source": [
    "# Integer data:\n",
    "int_data = train1M.values[:,1:14]\n",
    "int_data[:,1].shape"
   ]
  },
  {
   "cell_type": "code",
   "execution_count": 587,
   "metadata": {},
   "outputs": [
    {
     "data": {
      "text/plain": [
       "array([     0, 116306,      0,      0,      0,      0,      0,      0,\n",
       "            0,      0,      0,      0,      0])"
      ]
     },
     "execution_count": 587,
     "metadata": {},
     "output_type": "execute_result"
    }
   ],
   "source": [
    "# Clean -1's:\n",
    "min1_ind = (int_data == -1)\n",
    "min1_ind.sum(axis=0)"
   ]
  },
  {
   "cell_type": "code",
   "execution_count": 588,
   "metadata": {},
   "outputs": [
    {
     "data": {
      "text/plain": [
       "array([0, 0, 0, 0, 0, 0, 0, 0, 0, 0, 0, 0, 0])"
      ]
     },
     "execution_count": 588,
     "metadata": {},
     "output_type": "execute_result"
    }
   ],
   "source": [
    "int_data[min1_ind] = 0\n",
    "min1_ind2 = (int_data == -1)\n",
    "min1_ind2.sum(axis=0)"
   ]
  },
  {
   "cell_type": "code",
   "execution_count": 589,
   "metadata": {},
   "outputs": [
    {
     "data": {
      "text/plain": [
       "array([424550,      0, 226952, 236031,  22684, 219037,  39968,    610,\n",
       "        39968, 424550,  39968, 770820, 236031])"
      ]
     },
     "execution_count": 589,
     "metadata": {},
     "output_type": "execute_result"
    }
   ],
   "source": [
    "# Clean nans:\n",
    "nan_ind = np.isnan(int_data.tolist())\n",
    "nan_ind.sum(axis=0)"
   ]
  },
  {
   "cell_type": "code",
   "execution_count": 590,
   "metadata": {},
   "outputs": [
    {
     "data": {
      "text/plain": [
       "array([0, 0, 0, 0, 0, 0, 0, 0, 0, 0, 0, 0, 0])"
      ]
     },
     "execution_count": 590,
     "metadata": {},
     "output_type": "execute_result"
    }
   ],
   "source": [
    "int_data[nan_ind] = 0\n",
    "nan_ind2 = np.isnan(int_data.tolist())\n",
    "nan_ind2.sum(axis=0)"
   ]
  },
  {
   "cell_type": "markdown",
   "metadata": {},
   "source": [
    "### Categorical Data"
   ]
  },
  {
   "cell_type": "code",
   "execution_count": 591,
   "metadata": {},
   "outputs": [
    {
     "data": {
      "text/plain": [
       "1260"
      ]
     },
     "execution_count": 591,
     "metadata": {},
     "output_type": "execute_result"
    }
   ],
   "source": [
    "izz = train1M[14].unique()\n",
    "izz[0:15]\n",
    "len(izz)"
   ]
  },
  {
   "cell_type": "code",
   "execution_count": 583,
   "metadata": {},
   "outputs": [
    {
     "ename": "TypeError",
     "evalue": "'float' object does not support item assignment",
     "output_type": "error",
     "traceback": [
      "\u001b[1;31m---------------------------------------------------------------------------\u001b[0m",
      "\u001b[1;31mTypeError\u001b[0m                                 Traceback (most recent call last)",
      "\u001b[1;32m<ipython-input-583-fbeca38a7d01>\u001b[0m in \u001b[0;36m<module>\u001b[1;34m()\u001b[0m\n\u001b[0;32m      4\u001b[0m \u001b[0misit\u001b[0m \u001b[1;33m=\u001b[0m \u001b[0mtrain1M\u001b[0m\u001b[1;33m[\u001b[0m\u001b[1;36m14\u001b[0m\u001b[1;33m]\u001b[0m\u001b[1;33m.\u001b[0m\u001b[0mvalue_counts\u001b[0m\u001b[1;33m(\u001b[0m\u001b[1;33m)\u001b[0m\u001b[1;33m[\u001b[0m\u001b[1;36m4\u001b[0m\u001b[1;33m:\u001b[0m\u001b[1;36m30\u001b[0m\u001b[1;33m]\u001b[0m\u001b[1;33m\u001b[0m\u001b[0m\n\u001b[0;32m      5\u001b[0m \u001b[1;32mfor\u001b[0m \u001b[0mi\u001b[0m \u001b[1;32min\u001b[0m \u001b[0mrange\u001b[0m\u001b[1;33m(\u001b[0m\u001b[1;36m0\u001b[0m\u001b[1;33m,\u001b[0m\u001b[0mlen\u001b[0m\u001b[1;33m(\u001b[0m\u001b[0misit\u001b[0m\u001b[1;33m)\u001b[0m\u001b[1;33m)\u001b[0m\u001b[1;33m:\u001b[0m\u001b[1;33m\u001b[0m\u001b[0m\n\u001b[1;32m----> 6\u001b[1;33m     \u001b[0misit_log\u001b[0m\u001b[1;33m[\u001b[0m\u001b[0mi\u001b[0m\u001b[1;33m]\u001b[0m \u001b[1;33m=\u001b[0m \u001b[0mmath\u001b[0m\u001b[1;33m.\u001b[0m\u001b[0mlog\u001b[0m\u001b[1;33m(\u001b[0m\u001b[0misit\u001b[0m\u001b[1;33m[\u001b[0m\u001b[0mi\u001b[0m\u001b[1;33m]\u001b[0m\u001b[1;33m)\u001b[0m\u001b[1;33m\u001b[0m\u001b[0m\n\u001b[0m\u001b[0;32m      7\u001b[0m \u001b[1;33m\u001b[0m\u001b[0m\n\u001b[0;32m      8\u001b[0m \u001b[1;33m\u001b[0m\u001b[0m\n",
      "\u001b[1;31mTypeError\u001b[0m: 'float' object does not support item assignment"
     ]
    }
   ],
   "source": [
    "%matplotlib inline\n",
    "import matplotlib as plt\n",
    "\n",
    "isit = train1M[14].value_counts()[4:30]\n",
    "isit_log = np.empty(shape)\n",
    "for i in range(0,len(isit)):\n",
    "    isit_log[i] = math.log(isit[i])\n",
    "\n",
    "\n",
    "#newList = list(set(train1M[14]))\n",
    "\n",
    "\n",
    "\n",
    "isit.plot(kind='barh')"
   ]
  },
  {
   "cell_type": "code",
   "execution_count": 582,
   "metadata": {},
   "outputs": [
    {
     "data": {
      "text/plain": [
       "6.97354301952014"
      ]
     },
     "execution_count": 582,
     "metadata": {},
     "output_type": "execute_result"
    }
   ],
   "source": [
    "dict_1 = "
   ]
  },
  {
   "cell_type": "code",
   "execution_count": 594,
   "metadata": {},
   "outputs": [
    {
     "data": {
      "text/plain": [
       "<matplotlib.axes._subplots.AxesSubplot at 0x1b252c618d0>"
      ]
     },
     "execution_count": 594,
     "metadata": {},
     "output_type": "execute_result"
    },
    {
     "data": {
      "image/png": "[encoded data removed]",
      "text/plain": [
       "<matplotlib.figure.Figure at 0x1b2559a4a58>"
      ]
     },
     "metadata": {},
     "output_type": "display_data"
    }
   ],
   "source": [
    "%matplotlib inline\n",
    "import matplotlib\n",
    "\n",
    "isit = train1M[15].value_counts()[1:150]\n",
    "isit.plot(kind= 'barh')"
   ]
  },
  {
   "cell_type": "code",
   "execution_count": 281,
   "metadata": {},
   "outputs": [
    {
     "data": {
      "text/plain": [
       "<matplotlib.axes._subplots.AxesSubplot at 0x1b188991860>"
      ]
     },
     "execution_count": 281,
     "metadata": {},
     "output_type": "execute_result"
    },
    {
     "data": {
      "image/png": "[encoded data removed]",
      "text/plain": [
       "<matplotlib.figure.Figure at 0x1b188c5b240>"
      ]
     },
     "metadata": {},
     "output_type": "display_data"
    }
   ],
   "source": [
    "%matplotlib inline\n",
    "import matplotlib\n",
    "\n",
    "isit = train1M[16].value_counts()[1:40]\n",
    "isit.plot(kind= 'barh')"
   ]
  },
  {
   "cell_type": "code",
   "execution_count": 268,
   "metadata": {},
   "outputs": [
    {
     "data": {
      "text/plain": [
       "<matplotlib.axes._subplots.AxesSubplot at 0x1b180f2d8d0>"
      ]
     },
     "execution_count": 268,
     "metadata": {},
     "output_type": "execute_result"
    },
    {
     "data": {
      "image/png": "[encoded data removed]",
      "text/plain": [
       "<matplotlib.figure.Figure at 0x1b180f48748>"
      ]
     },
     "metadata": {},
     "output_type": "display_data"
    }
   ],
   "source": [
    "%matplotlib inline\n",
    "import matplotlib\n",
    "\n",
    "isit = train1M[17].value_counts()[:20]\n",
    "isit.plot(kind= 'barh')"
   ]
  },
  {
   "cell_type": "code",
   "execution_count": 331,
   "metadata": {},
   "outputs": [
    {
     "data": {
      "text/plain": [
       "(array([  3.53749000e+05,   8.93110000e+04,   4.30480000e+04,\n",
       "          2.44210000e+04,   1.51910000e+04,   1.04360000e+04,\n",
       "          7.58000000e+03,   5.68200000e+03,   4.11300000e+03,\n",
       "          3.23000000e+03,   2.64900000e+03,   2.05000000e+03,\n",
       "          1.74700000e+03,   1.46300000e+03,   1.16000000e+03,\n",
       "          1.03200000e+03,   8.51000000e+02,   7.04000000e+02,\n",
       "          6.09000000e+02,   5.00000000e+02,   4.53000000e+02,\n",
       "          3.84000000e+02,   3.64000000e+02,   3.32000000e+02,\n",
       "          2.98000000e+02,   2.37000000e+02,   2.53000000e+02,\n",
       "          2.15000000e+02,   1.86000000e+02,   1.56000000e+02,\n",
       "          1.36000000e+02,   1.37000000e+02,   1.24000000e+02,\n",
       "          1.11000000e+02,   8.00000000e+01,   1.04000000e+02,\n",
       "          9.30000000e+01,   8.40000000e+01,   7.10000000e+01,\n",
       "          6.60000000e+01,   7.90000000e+01,   6.10000000e+01,\n",
       "          6.20000000e+01,   4.50000000e+01,   4.60000000e+01,\n",
       "          3.40000000e+01,   5.10000000e+01,   2.80000000e+01,\n",
       "          2.60000000e+01,   3.30000000e+01,   2.10000000e+01,\n",
       "          3.20000000e+01,   2.70000000e+01,   2.60000000e+01,\n",
       "          2.60000000e+01,   1.90000000e+01,   2.40000000e+01,\n",
       "          1.50000000e+01,   2.60000000e+01,   1.70000000e+01,\n",
       "          1.70000000e+01,   1.30000000e+01,   1.60000000e+01,\n",
       "          1.00000000e+01,   9.00000000e+00,   8.00000000e+00,\n",
       "          1.00000000e+01,   1.00000000e+01,   1.10000000e+01,\n",
       "          1.10000000e+01,   1.20000000e+01,   7.00000000e+00,\n",
       "          8.00000000e+00,   6.00000000e+00,   7.00000000e+00,\n",
       "          7.00000000e+00,   9.00000000e+00,   6.00000000e+00,\n",
       "          4.00000000e+00,   6.00000000e+00,   6.00000000e+00,\n",
       "          7.00000000e+00,   5.00000000e+00,   6.00000000e+00,\n",
       "          2.00000000e+00,   2.00000000e+00,   5.00000000e+00,\n",
       "          2.00000000e+00,   5.00000000e+00,   4.00000000e+00,\n",
       "          3.00000000e+00,   7.00000000e+00,   3.00000000e+00,\n",
       "          6.00000000e+00,   3.00000000e+00,   2.00000000e+00,\n",
       "          3.00000000e+00,   2.00000000e+00,   4.00000000e+00,\n",
       "          2.00000000e+00,   1.00000000e+00,   1.00000000e+00,\n",
       "          1.00000000e+00,   0.00000000e+00,   3.00000000e+00,\n",
       "          3.00000000e+00,   1.00000000e+00,   5.00000000e+00,\n",
       "          3.00000000e+00,   3.00000000e+00,   2.00000000e+00,\n",
       "          1.00000000e+00,   2.00000000e+00,   0.00000000e+00,\n",
       "          4.00000000e+00,   1.00000000e+00,   0.00000000e+00,\n",
       "          2.00000000e+00,   1.00000000e+00,   1.00000000e+00,\n",
       "          1.00000000e+00,   4.00000000e+00,   1.00000000e+00,\n",
       "          5.00000000e+00,   1.00000000e+00,   0.00000000e+00,\n",
       "          1.00000000e+00,   3.00000000e+00,   1.00000000e+00,\n",
       "          2.00000000e+00,   0.00000000e+00,   1.00000000e+00,\n",
       "          1.00000000e+00,   1.00000000e+00,   1.00000000e+00,\n",
       "          1.00000000e+00,   0.00000000e+00,   2.00000000e+00,\n",
       "          0.00000000e+00,   1.00000000e+00,   0.00000000e+00,\n",
       "          1.00000000e+00,   0.00000000e+00,   1.00000000e+00,\n",
       "          1.00000000e+00,   0.00000000e+00,   0.00000000e+00,\n",
       "          0.00000000e+00,   0.00000000e+00,   1.00000000e+00,\n",
       "          1.00000000e+00,   1.00000000e+00,   0.00000000e+00,\n",
       "          0.00000000e+00,   1.00000000e+00,   1.00000000e+00,\n",
       "          0.00000000e+00,   4.00000000e+00,   1.00000000e+00,\n",
       "          1.00000000e+00,   0.00000000e+00,   0.00000000e+00,\n",
       "          1.00000000e+00,   0.00000000e+00,   0.00000000e+00,\n",
       "          0.00000000e+00,   0.00000000e+00,   0.00000000e+00,\n",
       "          1.00000000e+00,   0.00000000e+00,   0.00000000e+00,\n",
       "          0.00000000e+00,   0.00000000e+00,   1.00000000e+00,\n",
       "          0.00000000e+00,   0.00000000e+00,   0.00000000e+00,\n",
       "          0.00000000e+00,   0.00000000e+00,   0.00000000e+00,\n",
       "          0.00000000e+00,   0.00000000e+00,   0.00000000e+00,\n",
       "          0.00000000e+00,   0.00000000e+00,   0.00000000e+00,\n",
       "          0.00000000e+00,   1.00000000e+00,   0.00000000e+00,\n",
       "          0.00000000e+00,   0.00000000e+00,   0.00000000e+00,\n",
       "          0.00000000e+00,   0.00000000e+00,   0.00000000e+00,\n",
       "          0.00000000e+00,   1.00000000e+00,   0.00000000e+00,\n",
       "          0.00000000e+00,   0.00000000e+00,   0.00000000e+00,\n",
       "          0.00000000e+00,   1.00000000e+00,   0.00000000e+00,\n",
       "          0.00000000e+00,   0.00000000e+00,   0.00000000e+00,\n",
       "          0.00000000e+00,   0.00000000e+00,   0.00000000e+00,\n",
       "          2.00000000e+00,   0.00000000e+00,   0.00000000e+00,\n",
       "          0.00000000e+00,   0.00000000e+00,   0.00000000e+00,\n",
       "          0.00000000e+00,   0.00000000e+00,   0.00000000e+00,\n",
       "          0.00000000e+00,   0.00000000e+00,   0.00000000e+00,\n",
       "          0.00000000e+00,   0.00000000e+00,   0.00000000e+00,\n",
       "          0.00000000e+00,   0.00000000e+00,   0.00000000e+00,\n",
       "          0.00000000e+00,   0.00000000e+00,   0.00000000e+00,\n",
       "          0.00000000e+00,   0.00000000e+00,   1.00000000e+00,\n",
       "          0.00000000e+00,   0.00000000e+00,   0.00000000e+00,\n",
       "          0.00000000e+00,   0.00000000e+00,   0.00000000e+00,\n",
       "          0.00000000e+00,   0.00000000e+00,   1.00000000e+00,\n",
       "          0.00000000e+00,   0.00000000e+00,   0.00000000e+00,\n",
       "          0.00000000e+00,   0.00000000e+00,   0.00000000e+00,\n",
       "          0.00000000e+00,   0.00000000e+00,   0.00000000e+00,\n",
       "          0.00000000e+00,   0.00000000e+00,   0.00000000e+00,\n",
       "          0.00000000e+00,   0.00000000e+00,   0.00000000e+00,\n",
       "          0.00000000e+00,   0.00000000e+00,   0.00000000e+00,\n",
       "          0.00000000e+00,   0.00000000e+00,   0.00000000e+00,\n",
       "          0.00000000e+00,   0.00000000e+00,   0.00000000e+00,\n",
       "          0.00000000e+00,   0.00000000e+00,   0.00000000e+00,\n",
       "          0.00000000e+00,   0.00000000e+00,   0.00000000e+00,\n",
       "          0.00000000e+00,   0.00000000e+00,   0.00000000e+00,\n",
       "          0.00000000e+00,   0.00000000e+00,   0.00000000e+00,\n",
       "          0.00000000e+00,   0.00000000e+00,   0.00000000e+00,\n",
       "          0.00000000e+00,   0.00000000e+00,   0.00000000e+00,\n",
       "          0.00000000e+00,   0.00000000e+00,   0.00000000e+00,\n",
       "          0.00000000e+00,   0.00000000e+00,   0.00000000e+00,\n",
       "          0.00000000e+00,   0.00000000e+00,   1.00000000e+00,\n",
       "          0.00000000e+00,   0.00000000e+00,   0.00000000e+00,\n",
       "          0.00000000e+00,   0.00000000e+00,   0.00000000e+00,\n",
       "          1.00000000e+00,   0.00000000e+00,   0.00000000e+00,\n",
       "          0.00000000e+00,   0.00000000e+00,   0.00000000e+00,\n",
       "          0.00000000e+00,   0.00000000e+00,   0.00000000e+00,\n",
       "          0.00000000e+00,   0.00000000e+00,   0.00000000e+00,\n",
       "          0.00000000e+00,   0.00000000e+00,   0.00000000e+00,\n",
       "          0.00000000e+00,   0.00000000e+00,   0.00000000e+00,\n",
       "          0.00000000e+00,   0.00000000e+00,   0.00000000e+00,\n",
       "          0.00000000e+00,   0.00000000e+00,   0.00000000e+00,\n",
       "          0.00000000e+00,   0.00000000e+00,   0.00000000e+00,\n",
       "          0.00000000e+00,   0.00000000e+00,   0.00000000e+00,\n",
       "          0.00000000e+00,   1.00000000e+00,   0.00000000e+00,\n",
       "          0.00000000e+00,   0.00000000e+00,   0.00000000e+00,\n",
       "          0.00000000e+00,   1.00000000e+00,   0.00000000e+00,\n",
       "          0.00000000e+00,   0.00000000e+00,   0.00000000e+00,\n",
       "          0.00000000e+00,   0.00000000e+00,   0.00000000e+00,\n",
       "          0.00000000e+00,   0.00000000e+00,   0.00000000e+00,\n",
       "          0.00000000e+00,   0.00000000e+00,   0.00000000e+00,\n",
       "          0.00000000e+00,   0.00000000e+00,   0.00000000e+00,\n",
       "          0.00000000e+00,   0.00000000e+00,   0.00000000e+00,\n",
       "          0.00000000e+00,   0.00000000e+00,   0.00000000e+00,\n",
       "          0.00000000e+00,   0.00000000e+00,   0.00000000e+00,\n",
       "          0.00000000e+00,   0.00000000e+00,   0.00000000e+00,\n",
       "          0.00000000e+00,   0.00000000e+00,   0.00000000e+00,\n",
       "          0.00000000e+00,   0.00000000e+00,   0.00000000e+00,\n",
       "          0.00000000e+00,   0.00000000e+00,   0.00000000e+00,\n",
       "          0.00000000e+00,   0.00000000e+00,   0.00000000e+00,\n",
       "          0.00000000e+00,   0.00000000e+00,   0.00000000e+00,\n",
       "          0.00000000e+00,   0.00000000e+00,   0.00000000e+00,\n",
       "          0.00000000e+00,   0.00000000e+00,   0.00000000e+00,\n",
       "          0.00000000e+00,   0.00000000e+00,   0.00000000e+00,\n",
       "          1.00000000e+00,   0.00000000e+00,   0.00000000e+00,\n",
       "          0.00000000e+00,   0.00000000e+00,   0.00000000e+00,\n",
       "          0.00000000e+00,   0.00000000e+00,   0.00000000e+00,\n",
       "          0.00000000e+00,   0.00000000e+00,   0.00000000e+00,\n",
       "          0.00000000e+00,   0.00000000e+00,   0.00000000e+00,\n",
       "          0.00000000e+00,   0.00000000e+00,   1.00000000e+00]),\n",
       " array([   0.,    2.,    4.,    6.,    8.,   10.,   12.,   14.,   16.,\n",
       "          18.,   20.,   22.,   24.,   26.,   28.,   30.,   32.,   34.,\n",
       "          36.,   38.,   40.,   42.,   44.,   46.,   48.,   50.,   52.,\n",
       "          54.,   56.,   58.,   60.,   62.,   64.,   66.,   68.,   70.,\n",
       "          72.,   74.,   76.,   78.,   80.,   82.,   84.,   86.,   88.,\n",
       "          90.,   92.,   94.,   96.,   98.,  100.,  102.,  104.,  106.,\n",
       "         108.,  110.,  112.,  114.,  116.,  118.,  120.,  122.,  124.,\n",
       "         126.,  128.,  130.,  132.,  134.,  136.,  138.,  140.,  142.,\n",
       "         144.,  146.,  148.,  150.,  152.,  154.,  156.,  158.,  160.,\n",
       "         162.,  164.,  166.,  168.,  170.,  172.,  174.,  176.,  178.,\n",
       "         180.,  182.,  184.,  186.,  188.,  190.,  192.,  194.,  196.,\n",
       "         198.,  200.,  202.,  204.,  206.,  208.,  210.,  212.,  214.,\n",
       "         216.,  218.,  220.,  222.,  224.,  226.,  228.,  230.,  232.,\n",
       "         234.,  236.,  238.,  240.,  242.,  244.,  246.,  248.,  250.,\n",
       "         252.,  254.,  256.,  258.,  260.,  262.,  264.,  266.,  268.,\n",
       "         270.,  272.,  274.,  276.,  278.,  280.,  282.,  284.,  286.,\n",
       "         288.,  290.,  292.,  294.,  296.,  298.,  300.,  302.,  304.,\n",
       "         306.,  308.,  310.,  312.,  314.,  316.,  318.,  320.,  322.,\n",
       "         324.,  326.,  328.,  330.,  332.,  334.,  336.,  338.,  340.,\n",
       "         342.,  344.,  346.,  348.,  350.,  352.,  354.,  356.,  358.,\n",
       "         360.,  362.,  364.,  366.,  368.,  370.,  372.,  374.,  376.,\n",
       "         378.,  380.,  382.,  384.,  386.,  388.,  390.,  392.,  394.,\n",
       "         396.,  398.,  400.,  402.,  404.,  406.,  408.,  410.,  412.,\n",
       "         414.,  416.,  418.,  420.,  422.,  424.,  426.,  428.,  430.,\n",
       "         432.,  434.,  436.,  438.,  440.,  442.,  444.,  446.,  448.,\n",
       "         450.,  452.,  454.,  456.,  458.,  460.,  462.,  464.,  466.,\n",
       "         468.,  470.,  472.,  474.,  476.,  478.,  480.,  482.,  484.,\n",
       "         486.,  488.,  490.,  492.,  494.,  496.,  498.,  500.,  502.,\n",
       "         504.,  506.,  508.,  510.,  512.,  514.,  516.,  518.,  520.,\n",
       "         522.,  524.,  526.,  528.,  530.,  532.,  534.,  536.,  538.,\n",
       "         540.,  542.,  544.,  546.,  548.,  550.,  552.,  554.,  556.,\n",
       "         558.,  560.,  562.,  564.,  566.,  568.,  570.,  572.,  574.,\n",
       "         576.,  578.,  580.,  582.,  584.,  586.,  588.,  590.,  592.,\n",
       "         594.,  596.,  598.,  600.,  602.,  604.,  606.,  608.,  610.,\n",
       "         612.,  614.,  616.,  618.,  620.,  622.,  624.,  626.,  628.,\n",
       "         630.,  632.,  634.,  636.,  638.,  640.,  642.,  644.,  646.,\n",
       "         648.,  650.,  652.,  654.,  656.,  658.,  660.,  662.,  664.,\n",
       "         666.,  668.,  670.,  672.,  674.,  676.,  678.,  680.,  682.,\n",
       "         684.,  686.,  688.,  690.,  692.,  694.,  696.,  698.,  700.,\n",
       "         702.,  704.,  706.,  708.,  710.,  712.,  714.,  716.,  718.,\n",
       "         720.,  722.,  724.,  726.,  728.,  730.,  732.,  734.,  736.,\n",
       "         738.,  740.,  742.,  744.,  746.,  748.,  750.,  752.,  754.,\n",
       "         756.,  758.,  760.,  762.,  764.,  766.,  768.,  770.,  772.,\n",
       "         774.,  776.,  778.,  780.,  782.,  784.,  786.,  788.,  790.,\n",
       "         792.,  794.,  796.,  798.,  800.,  802.,  804.,  806.,  808.,\n",
       "         810.,  812.,  814.,  816.]),\n",
       " <a list of 408 Patch objects>)"
      ]
     },
     "execution_count": 331,
     "metadata": {},
     "output_type": "execute_result"
    },
    {
     "data": {
      "image/png": "[encoded data removed]",
      "text/plain": [
       "<matplotlib.figure.Figure at 0x1b238e1c2e8>"
      ]
     },
     "metadata": {},
     "output_type": "display_data"
    }
   ],
   "source": [
    "dataaa = train1M[1]\n",
    "newH1 = train1M[1][~np.isnan(dataaa)]\n",
    "plt.hist(newH1, normed=False, bins=np.arange(min(newH1), max(newH1) + 2, 2), log=True) #  bins=200,"
   ]
  },
  {
   "cell_type": "code",
   "execution_count": 319,
   "metadata": {},
   "outputs": [
    {
     "data": {
      "text/plain": [
       "(1000000,)"
      ]
     },
     "execution_count": 319,
     "metadata": {},
     "output_type": "execute_result"
    }
   ],
   "source": [
    "n"
   ]
  },
  {
   "cell_type": "code",
   "execution_count": null,
   "metadata": {},
   "outputs": [],
   "source": [
    "from sklearn import preprocessing"
   ]
  }
 ],
 "metadata": {
  "kernelspec": {
   "display_name": "Python 3",
   "language": "python",
   "name": "python3"
  },
  "language_info": {
   "codemirror_mode": {
    "name": "ipython",
    "version": 3
   },
   "file_extension": ".py",
   "mimetype": "text/x-python",
   "name": "python",
   "nbconvert_exporter": "python",
   "pygments_lexer": "ipython3",
   "version": "3.6.3"
  }
 },
 "nbformat": 4,
 "nbformat_minor": 2
}
