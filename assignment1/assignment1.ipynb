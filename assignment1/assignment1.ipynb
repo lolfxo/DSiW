{
 "cells": [
  {
   "cell_type": "code",
   "execution_count": 2,
   "metadata": {
    "collapsed": true
   },
   "outputs": [],
   "source": [
    "def bagging(train_data):\n",
    "    # Let train_data have different measurements on its columns and observations on its rows\n",
    "    # Take the number of rows:\n",
    "    obs = train_data.shape[0]\n",
    "    \n",
    "    # Scramble row indices\n",
    "    index = np.round(obs*np.random.rand(1,obs)-1)\n",
    "    \n",
    "    bagged_data = train_data[index[0],:]        \n",
    "    return bagged_data"
   ]
  },
  {
   "cell_type": "code",
   "execution_count": 3,
   "metadata": {
    "collapsed": true
   },
   "outputs": [],
   "source": [
    "# Load Training Data:\n",
    "from sklearn.datasets import fetch_rcv1\n",
    "rcv1 = fetch_rcv1(subset='train') # this contains both the data and target\n",
    "\n",
    "# Columns of rcv_x are my different measurements (like length/width of sepal, petals)\n",
    "rcv_x = rcv1.data\n",
    "\n",
    "# Columns of rcv_y are different classifications (like types of irises: Setosa, Versicolour, and Virginica)\n",
    "rcv_y = rcv1.target"
   ]
  },
  {
   "cell_type": "code",
   "execution_count": 28,
   "metadata": {
    "collapsed": true
   },
   "outputs": [],
   "source": [
    "# load validation data:\n",
    "import numpy as np\n",
    "import pandas as pd\n",
    "\n",
    "test_data = fetch_rcv1(subset='test')\n",
    "ids = pd.read_csv('validation.txt', header=None)\n",
    "mask = np.isin(test_data.sample_id, ids)\n",
    "\n",
    "# validation measurements\n",
    "validation_data = test_data.data[mask]\n",
    "\n",
    "# validation targets\n",
    "validation_target = test_data.target[mask]"
   ]
  },
  {
   "cell_type": "code",
   "execution_count": 29,
   "metadata": {
    "collapsed": true
   },
   "outputs": [],
   "source": [
    "# import labels we care about\n",
    "labels = pd.read_csv('labels.txt', header=None)"
   ]
  },
  {
   "cell_type": "code",
   "execution_count": 100,
   "metadata": {},
   "outputs": [
    {
     "name": "stdout",
     "output_type": "stream",
     "text": [
      "[[ 0.8109  0.8824  0.9212  0.7931  0.9115  0.8991  0.9033  0.9634  0.9735\n",
      "   0.9018]]\n"
     ]
    }
   ],
   "source": [
    "# Naive Bayes Bernoulli:\n",
    "from sklearn.naive_bayes import BernoulliNB\n",
    "nb_clf = BernoulliNB()\n",
    "\n",
    "i = 0\n",
    "\n",
    "nb_sc = np.empty(shape = [1,len(labels)])\n",
    "for n in range(0,len(labels)):\n",
    "    #for n in range(0,len(labels)):\n",
    "    target = rcv_y[:,labels[0][n]] # for each classification, target contains 1 or 0\n",
    "    target2 = target.toarray().ravel()\n",
    "    \n",
    "    # validation data targets\n",
    "    valid_target = validation_target[:,labels[0][n]].toarray().ravel()\n",
    "    \n",
    "    # 1. Train our model\n",
    "    nb_clf.fit(rcv_x, target2)\n",
    "\n",
    "    # 2. Validate model:      \n",
    "    # fit target:\n",
    "    valid_pred = nb_clf.predict(validation_data)\n",
    "    \n",
    "    # compare fitted target to true target in validation_target\n",
    "    nb_sc[0,i] = accuracy_score(valid_target, valid_pred)\n",
    "    i = i + 1\n",
    "\n",
    "print(nb_sc)"
   ]
  },
  {
   "cell_type": "code",
   "execution_count": 103,
   "metadata": {},
   "outputs": [
    {
     "name": "stdout",
     "output_type": "stream",
     "text": [
      "(10000, 47236)\n",
      "(23149, 47236)\n",
      "(23149,)\n"
     ]
    }
   ],
   "source": [
    "print(validation_data.shape)\n",
    "print(rcv_x.shape)\n",
    "print(target2.shape)"
   ]
  },
  {
   "cell_type": "code",
   "execution_count": 270,
   "metadata": {},
   "outputs": [],
   "source": [
    "# Question 2\n",
    "from sklearn.cluster import KMeans\n",
    "from scipy.sparse import find\n",
    "\n",
    "for n in range(0,10):\n",
    "    bin_clf = rcv_y[:,n].toarray().ravel() # 23149 by 1\n",
    "    ones_ind = bin_clf != 0\n",
    "    zeros_ind = bin_clf == 0\n",
    "    \n",
    "    cluster1_data = rcv_x[ones_ind,:]\n",
    "    cluster0_data = rcv_x[zeros_ind,:]\n",
    "    "
   ]
  },
  {
   "cell_type": "code",
   "execution_count": 211,
   "metadata": {},
   "outputs": [
    {
     "name": "stdout",
     "output_type": "stream",
     "text": [
      "(23149, 1)\n",
      "  (8, 0)\tTrue\n",
      "  (12, 0)\tTrue\n"
     ]
    }
   ],
   "source": [
    "bin_clf = rcv_y[:,1] # 23149 by 1\n",
    "xx = (bin_clf==1)\n",
    "print(xx.shape)\n",
    "print(xx[1:15])\n",
    "#isit = rcv_x[xx,:]"
   ]
  },
  {
   "cell_type": "code",
   "execution_count": 173,
   "metadata": {},
   "outputs": [
    {
     "name": "stdout",
     "output_type": "stream",
     "text": [
      "[0 0 0 1 0 0 0 0 0 0 0 0 0 0 0 0 0 0 0 0 0 0 0 0 0 0 0 0 0 0 1]\n"
     ]
    }
   ],
   "source": [
    "bin_clf2 = rcv_y[:,0]\n",
    "print(bin_clf2[1:32,:].toarray().ravel())"
   ]
  },
  {
   "cell_type": "code",
   "execution_count": 102,
   "metadata": {},
   "outputs": [
    {
     "ename": "NameError",
     "evalue": "name 'CS5304KNNClassifier' is not defined",
     "output_type": "error",
     "traceback": [
      "\u001b[1;31m---------------------------------------------------------------------------\u001b[0m",
      "\u001b[1;31mNameError\u001b[0m                                 Traceback (most recent call last)",
      "\u001b[1;32m<ipython-input-102-c62bd9e50bc3>\u001b[0m in \u001b[0;36m<module>\u001b[1;34m()\u001b[0m\n\u001b[0;32m      1\u001b[0m \u001b[0mlimit\u001b[0m \u001b[1;33m=\u001b[0m \u001b[1;36m1000\u001b[0m\u001b[1;33m\u001b[0m\u001b[0m\n\u001b[1;32m----> 2\u001b[1;33m \u001b[0mknn\u001b[0m \u001b[1;33m=\u001b[0m \u001b[0mCS5304KNNClassifier\u001b[0m\u001b[1;33m(\u001b[0m\u001b[0mn_neighbors\u001b[0m\u001b[1;33m=\u001b[0m\u001b[0mk\u001b[0m\u001b[1;33m)\u001b[0m\u001b[1;33m\u001b[0m\u001b[0m\n\u001b[0m\u001b[0;32m      3\u001b[0m \u001b[1;31m# take in k as input to the class\u001b[0m\u001b[1;33m\u001b[0m\u001b[1;33m\u001b[0m\u001b[0m\n\u001b[0;32m      4\u001b[0m \u001b[1;33m\u001b[0m\u001b[0m\n\u001b[0;32m      5\u001b[0m \u001b[1;31m# the knn class has methods: train\u001b[0m\u001b[1;33m\u001b[0m\u001b[1;33m\u001b[0m\u001b[0m\n",
      "\u001b[1;31mNameError\u001b[0m: name 'CS5304KNNClassifier' is not defined"
     ]
    }
   ],
   "source": [
    "limit = 1000\n",
    "knn = CS5304KNNClassifier(n_neighbors=k)\n",
    "# take in k as input to the class\n",
    "\n",
    "# the knn class has methods: train\n",
    "# the train method takes in training data and target data to train the model.\n",
    "# it should automatically detect the most optimal value for k.\n",
    "knn.train(train_data[:limit], train_target[:limit][:, label])\n",
    "# knn WITHIN IT has the optimal value of k\n",
    "\n",
    "# and predict\n",
    "output = knn.predict(eval_data[:limit])\n",
    "# uses the STORED value of k to generate output, of the format: eval_target[:,label]\n",
    "\n",
    "# check performance of the \n",
    "check_output(output,eval_target[:limit])"
   ]
  },
  {
   "cell_type": "code",
   "execution_count": null,
   "metadata": {
    "collapsed": true
   },
   "outputs": [],
   "source": [
    "class CS5304KNNClassiﬁer:\n",
    "    def __init__(self, n_neighbors):\n",
    "        self.k = n_neighbors # input variable name to class: n_neighbors\n",
    "        self.knn = KNeighborsClassifier(n_neighbors = self.k) # input variable name to method: KNeighborsClassifier\n",
    "        \n",
    "    def train(train_data, train_target)\n",
    "        # train KNN classifier\n",
    "        self.knn.fit(train_data, train_target.toarray().ravel())\n",
    "        \n",
    "    def predict(eval_data)\n",
    "        # eval_data should have the same number of features (columns) as train_data\n",
    "        output = self.knn.predict(eval_data)\n",
    "        return output"
   ]
  },
  {
   "cell_type": "code",
   "execution_count": null,
   "metadata": {
    "collapsed": true
   },
   "outputs": [],
   "source": [
    "class CS5340NBClassifier:\n",
    "    def \n",
    "    "
   ]
  },
  {
   "cell_type": "code",
   "execution_count": null,
   "metadata": {
    "collapsed": true
   },
   "outputs": [],
   "source": [
    "limit = 1000\n",
    "isit = validation_target[:limit][:,4]\n",
    "print(isit.shape)"
   ]
  },
  {
   "cell_type": "code",
   "execution_count": 93,
   "metadata": {},
   "outputs": [
    {
     "name": "stdout",
     "output_type": "stream",
     "text": [
      "0\n",
      "1\n",
      "2\n",
      "3\n",
      "4\n",
      "5\n",
      "6\n",
      "7\n",
      "8\n",
      "9\n",
      "[[   4.        5.        7.       33.       59.       70.       83.       95.\n",
      "    98.      102.    ]\n",
      " [  21.       49.        5.       21.       21.       19.        9.       25.\n",
      "     7.       25.    ]\n",
      " [   0.9257    0.954     0.9227    0.8452    0.8966    0.9109    0.9535\n",
      "     0.9672    0.9605    0.9147]]\n"
     ]
    }
   ],
   "source": [
    "# K-Nearest Neighbor:\n",
    "from sklearn.metrics import accuracy_score\n",
    "\n",
    "kvec = np.arange(1,50,2)\n",
    "\n",
    "k_data = np.empty(shape = [3,len(labels)])\n",
    "\n",
    "j = 0\n",
    "\n",
    "for n in range(0,len(labels)):\n",
    "    target = rcv_y[:limit,labels[0][n]] # for each classification, target contains 1 or 0\n",
    "    target2 = target.toarray().ravel()\n",
    "    \n",
    "    # validation data targets\n",
    "    valid_target = validation_target[:,labels[0][n]].toarray().ravel()\n",
    "    \n",
    "    i = 0\n",
    "\n",
    "    sc = np.empty(shape = [1,len(kvec)])\n",
    "    for k in kvec:\n",
    "        knn = KNeighborsClassifier(n_neighbors=k)\n",
    "        \n",
    "        # 1. Train our model: for the measurements in rcv_x, we have a true North of target2\n",
    "        knn.fit(rcv_x[:limit,:], target2)\n",
    "    \n",
    "        # 2. Validate model:\n",
    "        # fit target:\n",
    "        valid_pred = knn.predict(validation_data)\n",
    "        # satisfy check_output\n",
    "        #print(type(valid_pred))\n",
    "        #print(valid_pred.ndim)\n",
    "        #print(valid_pred.shape[0])\n",
    "        #print(i)\n",
    "        \n",
    "        # compare fitted target to true target in validation_target\n",
    "        sc[0,i] = accuracy_score(valid_target, valid_pred)\n",
    "        i = i+1\n",
    "    sc_list = sc.tolist()\n",
    "    \n",
    "    # start filling k_data matrix:\n",
    "    k_data[0,j] = labels[0][n]\n",
    "    k_data[1,j] = kvec[sc_list[0].index(max(sc_list[0]))]\n",
    "    k_data[2,j] = sc_list[0][sc_list[0].index(max(sc_list[0]))]\n",
    "    print(j)\n",
    "    j = j+1\n",
    "    \n",
    "print(k_data)"
   ]
  },
  {
   "cell_type": "code",
   "execution_count": 76,
   "metadata": {},
   "outputs": [
    {
     "name": "stdout",
     "output_type": "stream",
     "text": [
      "validation_data (10000, 47236)\n",
      "validation_tar (10000,)\n",
      "validation_tar (10000,)\n"
     ]
    }
   ],
   "source": [
    "print(\"validation_data\",validation_data.shape)\n",
    "print(\"validation_tar\", valid_target.shape)\n",
    "print(\"validation_tar\", valid_pred.shape)"
   ]
  },
  {
   "cell_type": "code",
   "execution_count": 86,
   "metadata": {},
   "outputs": [
    {
     "name": "stdout",
     "output_type": "stream",
     "text": [
      "(1000, 1)\n"
     ]
    }
   ],
   "source": []
  },
  {
   "cell_type": "code",
   "execution_count": null,
   "metadata": {
    "collapsed": true
   },
   "outputs": [],
   "source": []
  }
 ],
 "metadata": {
  "kernelspec": {
   "display_name": "Python 3",
   "language": "python",
   "name": "python3"
  },
  "language_info": {
   "codemirror_mode": {
    "name": "ipython",
    "version": 3
   },
   "file_extension": ".py",
   "mimetype": "text/x-python",
   "name": "python",
   "nbconvert_exporter": "python",
   "pygments_lexer": "ipython3",
   "version": "3.6.3"
  }
 },
 "nbformat": 4,
 "nbformat_minor": 2
}
