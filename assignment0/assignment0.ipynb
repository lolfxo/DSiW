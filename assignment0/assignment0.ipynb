{
 "cells": [
  {
   "cell_type": "code",
   "execution_count": 1,
   "metadata": {},
   "outputs": [
    {
     "name": "stdout",
     "output_type": "stream",
     "text": [
      "0.3.0.post4\n",
      "3.6.2 |Anaconda, Inc.| (default, Sep 22 2017, 02:03:08) \n",
      "[GCC 7.2.0]\n"
     ]
    }
   ],
   "source": [
    "import sys\n",
    "import torch\n",
    "\n",
    "print(torch.__version__) # torch version\n",
    "print (sys.version) # python version"
   ]
  },
  {
   "cell_type": "code",
   "execution_count": 3,
   "metadata": {},
   "outputs": [],
   "source": [
    "# QUESTION 2\n",
    "import pandas as pd\n",
    "import numpy as np\n",
    "\n",
    "bitcoin_prices = pd.read_csv('btc.csv')\n",
    "bitcoin_prices.head() # check column names\n",
    "closing_prices = bitcoin_prices['Close'] # extract closing prices only\n",
    "\n",
    "# The long Way:\n",
    "av = np.zeros(len(closing_prices)-10)\n",
    "std = np.zeros(len(closing_prices)-10)\n",
    "for i in range(0, len(closing_prices)-10):\n",
    "    av[i] = np.mean(closing_prices[i:i+9])\n",
    "    std[i] = np.std(closing_prices[i:i+9])"
   ]
  },
  {
   "cell_type": "code",
   "execution_count": 6,
   "metadata": {},
   "outputs": [
    {
     "data": {
      "text/plain": [
       "0             NaN\n",
       "1             NaN\n",
       "2             NaN\n",
       "3             NaN\n",
       "4             NaN\n",
       "5             NaN\n",
       "6             NaN\n",
       "7             NaN\n",
       "8             NaN\n",
       "9      917.471051\n",
       "10     865.151684\n",
       "11    1210.999629\n",
       "12    2087.196921\n",
       "13    2361.582378\n",
       "14    2309.731068\n",
       "15    2168.274387\n",
       "16    2229.799182\n",
       "17    2157.124475\n",
       "18    1940.693289\n",
       "19    1634.252386\n",
       "20    1179.953980\n",
       "21    1314.101554\n",
       "22    1542.128267\n",
       "23    1665.008086\n",
       "24    1452.618741\n",
       "25    1186.142443\n",
       "26    1293.053244\n",
       "27    1669.455730\n",
       "28    1833.199082\n",
       "29    2032.343540\n",
       "30    2189.973247\n",
       "31    1952.590625\n",
       "32    1659.899431\n",
       "33    1219.946229\n",
       "34     869.119341\n",
       "35     928.537555\n",
       "36     856.088936\n",
       "37     896.367219\n",
       "38     899.237088\n",
       "39     940.427511\n",
       "40     955.018594\n",
       "41    1173.655592\n",
       "42    1413.366446\n",
       "43    1468.389211\n",
       "44    1452.757631\n",
       "45    1221.074069\n",
       "46    1139.673014\n",
       "47    1176.779863\n",
       "48    1258.411253\n",
       "49    1296.516164\n",
       "50    1373.155203\n",
       "51    1232.401510\n",
       "52    1257.276033\n",
       "53    1310.163318\n",
       "54    1379.463287\n",
       "55    1388.472559\n",
       "56    1194.957694\n",
       "57    1222.455801\n",
       "58    1236.107637\n",
       "59    1103.371375\n",
       "Name: Close, dtype: float64"
      ]
     },
     "execution_count": 6,
     "metadata": {},
     "output_type": "execute_result"
    }
   ],
   "source": [
    "# The Short Way:\n",
    "bitcoin_prices.rolling(10).mean()['Close']\n",
    "bitcoin_prices.rolling(10).var()['Close']"
   ]
  },
  {
   "cell_type": "code",
   "execution_count": 7,
   "metadata": {},
   "outputs": [
    {
     "name": "stdout",
     "output_type": "stream",
     "text": [
      "\n",
      "(0 ,.,.) = \n",
      "   7.0000\n",
      "   3.0000\n",
      "\n",
      "(1 ,.,.) = \n",
      "  11.0000\n",
      "   3.5000\n",
      "[torch.FloatTensor of size 2x2x1]\n",
      "\n",
      "\n",
      "(0 ,.,.) = \n",
      "  7.0000  9.0000\n",
      "\n",
      "(1 ,.,.) = \n",
      "  4.5000  4.5000\n",
      "[torch.FloatTensor of size 2x1x2]\n",
      "\n",
      "\n",
      "(0 ,.,.) = \n",
      "  49.0000  63.0000\n",
      "  21.0000  27.0000\n",
      "\n",
      "(1 ,.,.) = \n",
      "  49.5000  49.5000\n",
      "  15.7500  15.7500\n",
      "[torch.FloatTensor of size 2x2x2]\n",
      "\n"
     ]
    }
   ],
   "source": [
    "# QUESTION 3\n",
    "import torch\n",
    "A_data = [[[7],[3]], [[11],[3.5]]]\n",
    "A = torch.Tensor(A_data)\n",
    "print(A)\n",
    "\n",
    "B_data = [[[7,9]],[[4.5,4.5]]]\n",
    "B = torch.Tensor(B_data)\n",
    "print(B)\n",
    "\n",
    "output = torch.matmul(A,B)\n",
    "print(output)"
   ]
  },
  {
   "cell_type": "code",
   "execution_count": null,
   "metadata": {},
   "outputs": [],
   "source": []
  }
 ],
 "metadata": {
  "kernelspec": {
   "display_name": "Python 3",
   "language": "python",
   "name": "python3"
  },
  "language_info": {
   "codemirror_mode": {
    "name": "ipython",
    "version": 3
   },
   "file_extension": ".py",
   "mimetype": "text/x-python",
   "name": "python",
   "nbconvert_exporter": "python",
   "pygments_lexer": "ipython3",
   "version": "3.6.2"
  }
 },
 "nbformat": 4,
 "nbformat_minor": 2
}
